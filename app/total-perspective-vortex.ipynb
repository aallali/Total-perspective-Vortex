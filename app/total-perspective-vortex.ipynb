{
 "cells": [
  {
   "cell_type": "markdown",
   "id": "8592dfb7",
   "metadata": {},
   "source": [
    "# Total Perspective Vortex\n",
    "- Date: `14-07-2023 3:30PM`\n",
    "- Third project in the AI branch of 42's system\n",
    "- Project description: \n",
    "    - `Learn to use python tools to process large dimension data, and create a man-machine interface thanks to brainwaves.`\n",
    "- Summary: \n",
    "    - `Brain computer interface with machine learning based on electoencephalographic data.`\n",
    "    - This subject aims to create a brain computer interface based on electroencephalographic\n",
    "data (EEG data) with the help of machine learning algorithms. Using a subject’s EEG\n",
    "reading, you’ll have to infer what he or she is thinking about or doing - (motion) A or B\n",
    "in a t0 to tn timeframe.\n",
    "- Goals:\n",
    "    - Process EEG datas (parsing and filtering)\n",
    "    - Implement a dimensionality reduction algorithm\n",
    "    - Use the pipeline object from scikit-learn\n",
    "    - Classify a data stream in \"real time\""
   ]
  },
  {
   "cell_type": "markdown",
   "id": "78313ce9",
   "metadata": {},
   "source": [
    "<img width=\"350\" src=\"https://sipl.eelabs.technion.ac.il/wp-content/uploads/sites/6/2017/12/project-image-3966-2-16.png\"></img>"
   ]
  },
  {
   "cell_type": "markdown",
   "id": "3a008d25",
   "metadata": {},
   "source": [
    "## Steps:\n",
    "V.1 Preprocessing, parsing and formating . <br>\n",
    "V.2 Treatment pipeline . <br>\n",
    "V.3 Implementation . <br>\n",
    "V.4 Train, Validation and Test . <br>"
   ]
  },
  {
   "cell_type": "code",
   "execution_count": 83,
   "id": "b17de4f1",
   "metadata": {},
   "outputs": [],
   "source": [
    "%matplotlib inline\n",
    "import mne\n",
    "from mne.datasets import eegbci\n",
    "from mne.io import *\n",
    "import matplotlib.pyplot as plt\n",
    "mne.set_log_level(\"CRITICAL\")"
   ]
  },
  {
   "cell_type": "code",
   "execution_count": 84,
   "id": "f9090d01",
   "metadata": {},
   "outputs": [],
   "source": [
    "dataSetsPath = \"data\""
   ]
  },
  {
   "cell_type": "markdown",
   "id": "e1024d70",
   "metadata": {},
   "source": [
    "#### we pick data related to hands vs feet\n",
    "5, 9, 13 : Motor execution: hands vs feet <br>\n",
    "6, 10, 14 : Motor imagery: hands vs feet <br>\n",
    "read: https://mne.tools/dev/generated/mne.datasets.eegbci.load_data.html"
   ]
  },
  {
   "cell_type": "code",
   "execution_count": 85,
   "id": "cf89791f",
   "metadata": {},
   "outputs": [],
   "source": [
    "fnames = eegbci.load_data(1, [6, 10, 14], dataSetsPath)"
   ]
  },
  {
   "cell_type": "code",
   "execution_count": 86,
   "id": "4e76fdf4",
   "metadata": {},
   "outputs": [
    {
     "name": "stdout",
     "output_type": "stream",
     "text": [
      "<Info | 7 non-empty values\n",
      " bads: []\n",
      " ch_names: Fc5., Fc3., Fc1., Fcz., Fc2., Fc4., Fc6., C5.., C3.., C1.., ...\n",
      " chs: 64 EEG\n",
      " custom_ref_applied: False\n",
      " highpass: 0.0 Hz\n",
      " lowpass: 80.0 Hz\n",
      " meas_date: 2009-08-12 16:15:00 UTC\n",
      " nchan: 64\n",
      " projs: []\n",
      " sfreq: 160.0 Hz\n",
      ">\n"
     ]
    }
   ],
   "source": [
    "raws = [read_raw_edf(f, preload=True, stim_channel='auto') for f in fnames]\n",
    "raw = concatenate_raws(raws) \n",
    "events, event_dict = mne.events_from_annotations(raw)\n",
    "print(raw.info)\n",
    "# print(event_dict)"
   ]
  },
  {
   "cell_type": "code",
   "execution_count": 87,
   "id": "af0e3334",
   "metadata": {},
   "outputs": [
    {
     "data": {
      "text/html": [
       "<table class=\"table table-hover table-striped table-sm table-responsive small\">\n",
       "    <tr>\n",
       "        <th>Measurement date</th>\n",
       "        \n",
       "        <td>August 12, 2009  16:15:00 GMT</td>\n",
       "        \n",
       "    </tr>\n",
       "    <tr>\n",
       "        <th>Experimenter</th>\n",
       "        \n",
       "        <td>Unknown</td>\n",
       "        \n",
       "    </tr>\n",
       "        <th>Participant</th>\n",
       "        \n",
       "        <td>Unknown</td>\n",
       "        \n",
       "    </tr>\n",
       "    <tr>\n",
       "        <th>Digitized points</th>\n",
       "        \n",
       "        <td>Not available</td>\n",
       "        \n",
       "    </tr>\n",
       "    <tr>\n",
       "        <th>Good channels</th>\n",
       "        <td>64 EEG</td>\n",
       "    </tr>\n",
       "    <tr>\n",
       "        <th>Bad channels</th>\n",
       "        <td>None</td>\n",
       "    </tr>\n",
       "    <tr>\n",
       "        <th>EOG channels</th>\n",
       "        <td>Not available</td>\n",
       "    </tr>\n",
       "    <tr>\n",
       "        <th>ECG channels</th>\n",
       "        <td>Not available</td>\n",
       "    \n",
       "    <tr>\n",
       "        <th>Sampling frequency</th>\n",
       "        <td>160.00 Hz</td>\n",
       "    </tr>\n",
       "    \n",
       "    \n",
       "    <tr>\n",
       "        <th>Highpass</th>\n",
       "        <td>1.00 Hz</td>\n",
       "    </tr>\n",
       "    \n",
       "    \n",
       "    <tr>\n",
       "        <th>Lowpass</th>\n",
       "        <td>20.00 Hz</td>\n",
       "    </tr>\n",
       "    \n",
       "    \n",
       "</table>"
      ],
      "text/plain": [
       "<Info | 7 non-empty values\n",
       " bads: []\n",
       " ch_names: Fc5., Fc3., Fc1., Fcz., Fc2., Fc4., Fc6., C5.., C3.., C1.., ...\n",
       " chs: 64 EEG\n",
       " custom_ref_applied: False\n",
       " highpass: 1.0 Hz\n",
       " lowpass: 20.0 Hz\n",
       " meas_date: 2009-08-12 16:15:00 UTC\n",
       " nchan: 64\n",
       " projs: []\n",
       " sfreq: 160.0 Hz\n",
       ">"
      ]
     },
     "execution_count": 87,
     "metadata": {},
     "output_type": "execute_result"
    }
   ],
   "source": [
    "raw.filter(1,20)\n",
    "%matplotlib inline\n",
    "#fig = raw.plot()\n",
    "#fig.show()\n",
    "raw.info"
   ]
  }
 ],
 "metadata": {
  "kernelspec": {
   "display_name": "Python 3 (ipykernel)",
   "language": "python",
   "name": "python3"
  },
  "language_info": {
   "codemirror_mode": {
    "name": "ipython",
    "version": 3
   },
   "file_extension": ".py",
   "mimetype": "text/x-python",
   "name": "python",
   "nbconvert_exporter": "python",
   "pygments_lexer": "ipython3",
   "version": "3.10.10"
  }
 },
 "nbformat": 4,
 "nbformat_minor": 5
}
